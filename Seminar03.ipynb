{
 "cells": [
  {
   "cell_type": "code",
   "execution_count": 2,
   "id": "6f5a737d",
   "metadata": {},
   "outputs": [
    {
     "name": "stdout",
     "output_type": "stream",
     "text": [
      "Please write in a not-null integer0\n",
      "0 is zero.\n"
     ]
    }
   ],
   "source": [
    "#1. Write a program that asks a not-null integer and check whether it is positiv\n",
    "a = input('Please write in a not-null integer')\n",
    "if int(a) > 0:\n",
    "    print(f'{a} is a positive number.')\n",
    "elif int(a) < 0:\n",
    "    print(f'{a} is a negative number.')    \n",
    "else:\n",
    "    print(f'{a} is zero.')"
   ]
  },
  {
   "cell_type": "code",
   "execution_count": 5,
   "id": "e5109c3c",
   "metadata": {},
   "outputs": [
    {
     "name": "stdout",
     "output_type": "stream",
     "text": [
      "give me a float number (xx.xx)10.1\n",
      "give me another float number10.2\n",
      "The given numbers are 10.1 and 10.2, the larger one is 10.2\n"
     ]
    }
   ],
   "source": [
    "#2. Write a program that reads two different float numbers and displays the greater\n",
    "a = input('give me a float number (xx.xx)')\n",
    "b = input('give me another float number')\n",
    "if float(a) - float(b) > 0:\n",
    "    print(f'The given numbers are {a} and {b}, the larger one is {a}')\n",
    "else:\n",
    "    print(f'The given numbers are {a} and {b}, the larger one is {b}')    "
   ]
  },
  {
   "cell_type": "code",
   "execution_count": 14,
   "id": "5a8e3585",
   "metadata": {},
   "outputs": [
    {
     "name": "stdout",
     "output_type": "stream",
     "text": [
      "Give me a float number(xx.xx): 5\n",
      "Give me a float number(xx.xx): 21\n",
      "Give me a float number(xx.xx): 5\n",
      "Now this is our equation: 5*x^2 + 21*x + 5 = 0\n",
      "The solutions: -6.3345; -98.6655\n"
     ]
    }
   ],
   "source": [
    "#3. Write a program that solves a quadratic equation\n",
    "a = input('Give me a float number(xx.xx): ')\n",
    "b = input('Give me a float number(xx.xx): ')\n",
    "c = input('Give me a float number(xx.xx): ')\n",
    "a = int(a)\n",
    "b = int(b)\n",
    "c = int(c)\n",
    "\n",
    "print(f'Now this is our equation: {a}*x^2 + {b}*x + {c} = 0')\n",
    "d = b*b-4*a*c\n",
    "if d > 0:\n",
    "    x1 = (-b+d**0.5)/2*a\n",
    "    x2 = (-b-d**0.5)/2*a\n",
    "    print(f'The solutions: {round(x1, 4)}; {round(x2, 4)}')\n",
    "elif d == 0:\n",
    "    x1 = (-b)/2*a\n",
    "    print(f'The solution: {round(x1,4)}')\n",
    "else:\n",
    "    print('The equation has no real solution.')"
   ]
  },
  {
   "cell_type": "code",
   "execution_count": 20,
   "id": "2a968d2a",
   "metadata": {},
   "outputs": [
    {
     "name": "stdout",
     "output_type": "stream",
     "text": [
      "I would like to ask for a students name: 1\n",
      "Now, the grade of one subject: 1\n",
      "Now, the grade of one subject: 1\n",
      "Now, the grade of one subject: 1\n",
      "Failed\n"
     ]
    }
   ],
   "source": [
    "#5. The details are on the seminar3.pdf file\n",
    "name = input('I would like to ask for a students name: ')\n",
    "s1 = input('Now, the grade of one subject: ')\n",
    "s2 = input('Now, the grade of one subject: ')\n",
    "s3 = input('Now, the grade of one subject: ')\n",
    "s1 = int(s1)\n",
    "s2 = int(s2)\n",
    "s3 = int(s3)\n",
    "totalmark = s1+s2+s3\n",
    "percentage = d/3\n",
    "if s1 >= 40 and s2 >= 40 and s3 >= 40 and percentage >= 50:\n",
    "    print('Passed')\n",
    "else:\n",
    "    print('Failed')"
   ]
  },
  {
   "cell_type": "code",
   "execution_count": null,
   "id": "60c81ab1",
   "metadata": {},
   "outputs": [],
   "source": []
  },
  {
   "cell_type": "code",
   "execution_count": null,
   "id": "0f8f3849",
   "metadata": {},
   "outputs": [],
   "source": []
  }
 ],
 "metadata": {
  "kernelspec": {
   "display_name": "Python 3 (ipykernel)",
   "language": "python",
   "name": "python3"
  },
  "language_info": {
   "codemirror_mode": {
    "name": "ipython",
    "version": 3
   },
   "file_extension": ".py",
   "mimetype": "text/x-python",
   "name": "python",
   "nbconvert_exporter": "python",
   "pygments_lexer": "ipython3",
   "version": "3.10.9"
  }
 },
 "nbformat": 4,
 "nbformat_minor": 5
}

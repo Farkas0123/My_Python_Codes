{
 "cells": [
  {
   "cell_type": "code",
   "execution_count": 25,
   "id": "83c65ddd-18cc-4084-ba62-e712f36fe895",
   "metadata": {},
   "outputs": [
    {
     "name": "stdout",
     "output_type": "stream",
     "text": [
      "There is no perfect number in the given interval [81;97]\n"
     ]
    }
   ],
   "source": [
    "import random\n",
    "a = random.randint(0,100)\n",
    "b = random.randint(0,100)\n",
    "sum = 0\n",
    "n = 0\n",
    "perfect = False\n",
    "if a < b:\n",
    "    n = a\n",
    "    while perfect == False and n < b:\n",
    "        for i in range(2,n):\n",
    "            if n % i == 0:\n",
    "                sum += i\n",
    "        if(sum + 1 == n):\n",
    "            print(f'The given interval: [{a};{b}] The perfect number: {n}')    \n",
    "            perfect = True\n",
    "        else:\n",
    "            sum = 0\n",
    "        n += 1\n",
    "    \n",
    "    if(perfect == False):\n",
    "        print(f'There is no perfect number in the given interval [{a};{b}]')\n",
    "else:\n",
    "    n = b\n",
    "    while perfect == False and n < a:\n",
    "        for i in range(2,n):\n",
    "            if n % i == 0:\n",
    "                sum += i\n",
    "        if(sum + 1 == n):\n",
    "            print(f'The given interval: [{b};{a}] The perfect number: {n}')    \n",
    "            perfect = True\n",
    "        else:\n",
    "            sum = 0\n",
    "        n += 1\n",
    "    if(perfect == False):\n",
    "        print(f'There is no perfect number in the given interval [{b};{a}]')"
   ]
  },
  {
   "cell_type": "code",
   "execution_count": null,
   "id": "be044e78-ac83-4e55-969b-aaa287b0ff20",
   "metadata": {},
   "outputs": [],
   "source": []
  },
  {
   "cell_type": "code",
   "execution_count": null,
   "id": "4cadb1fd-3cff-47db-85a7-8857f5410f25",
   "metadata": {},
   "outputs": [],
   "source": []
  }
 ],
 "metadata": {
  "kernelspec": {
   "display_name": "Python 3 (ipykernel)",
   "language": "python",
   "name": "python3"
  },
  "language_info": {
   "codemirror_mode": {
    "name": "ipython",
    "version": 3
   },
   "file_extension": ".py",
   "mimetype": "text/x-python",
   "name": "python",
   "nbconvert_exporter": "python",
   "pygments_lexer": "ipython3",
   "version": "3.9.10"
  }
 },
 "nbformat": 4,
 "nbformat_minor": 5
}

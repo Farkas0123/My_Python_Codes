{
 "cells": [
  {
   "cell_type": "code",
   "execution_count": 1,
   "id": "41521082",
   "metadata": {},
   "outputs": [
    {
     "name": "stdout",
     "output_type": "stream",
     "text": [
      "How many dollars do you want to convert into euros and forints: 10000\n",
      "In euros: 9000.0; in forints 3540000.0\n"
     ]
    }
   ],
   "source": [
    "#Homework\n",
    "dollar = float(input('How many dollars do you want to convert into euros and forints: '))\n",
    "print(f'In euros: {dollar*0.9}; in forints {dollar * 354}')"
   ]
  },
  {
   "cell_type": "code",
   "execution_count": null,
   "id": "5a224330",
   "metadata": {},
   "outputs": [],
   "source": []
  }
 ],
 "metadata": {
  "kernelspec": {
   "display_name": "Python 3 (ipykernel)",
   "language": "python",
   "name": "python3"
  },
  "language_info": {
   "codemirror_mode": {
    "name": "ipython",
    "version": 3
   },
   "file_extension": ".py",
   "mimetype": "text/x-python",
   "name": "python",
   "nbconvert_exporter": "python",
   "pygments_lexer": "ipython3",
   "version": "3.10.9"
  }
 },
 "nbformat": 4,
 "nbformat_minor": 5
}

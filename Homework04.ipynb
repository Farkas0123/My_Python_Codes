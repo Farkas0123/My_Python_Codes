{
 "cells": [
  {
   "cell_type": "code",
   "execution_count": null,
   "id": "ceb11b6f",
   "metadata": {},
   "outputs": [
    {
     "name": "stdout",
     "output_type": "stream",
     "text": [
      "This progam will find all prime numbers between two given integers. Please help it out:\n",
      "Enter your first integer: 10\n",
      "Enter your second integer (must be greater then the first): 20\n"
     ]
    }
   ],
   "source": [
    "print('This progam will find all prime numbers between two given integers. Please help it out:')\n",
    "a = int(input('Enter your first integer: '))\n",
    "b = int(input('Enter your second integer (must be greater then the first): '))\n",
    "\n",
    "\n",
    "is_prime = False\n",
    "i = 2\n",
    "solutions = []\n",
    "for j in range(2, b):\n",
    "    while i < j and j % i !=0:\n",
    "        i += 1\n",
    "        if i==j and j >= a:\n",
    "            solutions.append(j)\n",
    "    i = 2\n",
    "print(solutions)\n",
    "\n"
   ]
  },
  {
   "cell_type": "code",
   "execution_count": null,
   "id": "7e6578d1",
   "metadata": {},
   "outputs": [],
   "source": []
  }
 ],
 "metadata": {
  "kernelspec": {
   "display_name": "Python 3 (ipykernel)",
   "language": "python",
   "name": "python3"
  },
  "language_info": {
   "codemirror_mode": {
    "name": "ipython",
    "version": 3
   },
   "file_extension": ".py",
   "mimetype": "text/x-python",
   "name": "python",
   "nbconvert_exporter": "python",
   "pygments_lexer": "ipython3",
   "version": "3.10.9"
  }
 },
 "nbformat": 4,
 "nbformat_minor": 5
}

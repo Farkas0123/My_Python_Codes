{
 "cells": [
  {
   "cell_type": "code",
   "execution_count": 13,
   "id": "0998a984",
   "metadata": {},
   "outputs": [
    {
     "name": "stdout",
     "output_type": "stream",
     "text": [
      "True\n"
     ]
    }
   ],
   "source": [
    "#         >>>>>>>>>>>>>>>>>>      1      <<<<<<<<<<<<<<<<<<<\n",
    "# Is there anyone in the class who is taller then 185?\n",
    "height = [1,2,3,4,5,6,7,8,9,1000]\n",
    "n = len(height)\n",
    "done = False\n",
    "i = 0\n",
    "while done == False and i < n:\n",
    "    if height[i] >= 185:\n",
    "        done = True\n",
    "    i += 1\n",
    "print(done)"
   ]
  },
  {
   "cell_type": "code",
   "execution_count": 23,
   "id": "683be4b5",
   "metadata": {},
   "outputs": [
    {
     "name": "stdout",
     "output_type": "stream",
     "text": [
      "18.174190112022345\n"
     ]
    }
   ],
   "source": [
    "#         >>>>>>>>>>>>>>>>>>      2      <<<<<<<<<<<<<<<<<<<\n",
    "import random\n",
    "week = []\n",
    "for i in range(0,7):\n",
    "    week.append(random.uniform(10, 24.99))\n",
    "week = tuple(week)\n",
    "sum = 0\n",
    "for i in range(0,len(week)):\n",
    "    sum += week[i]\n",
    "print(sum/len(week))\n"
   ]
  },
  {
   "cell_type": "code",
   "execution_count": 32,
   "id": "c2fa9813",
   "metadata": {},
   "outputs": [
    {
     "name": "stdout",
     "output_type": "stream",
     "text": [
      "A positive integer: 7\n",
      "Its a prime\n",
      "2\n"
     ]
    }
   ],
   "source": [
    "#>>>>>>>>>>>>>>>>>>>>>    3    <<<<<<<<<<<<<<<<<<<<<<\n",
    "n = int(input('A positive integer: '))\n",
    "divisors = 0\n",
    "for i in range(1, n+1):\n",
    "    if n % i == 0:\n",
    "        divisors += 1\n",
    "        \n",
    "if divisors == 2:\n",
    "    print('Its a prime')\n",
    "else:\n",
    "    print('not a prime')\n",
    "print(divisors)"
   ]
  },
  {
   "cell_type": "code",
   "execution_count": 43,
   "id": "ba53a239",
   "metadata": {},
   "outputs": [
    {
     "name": "stdout",
     "output_type": "stream",
     "text": [
      "3\n",
      "[0, 0, 1, 0, 1, 0, 1, 1, 1, 0, 1, 0, 1, 0, 0, 1, 0, 1, 0, 0, 0, 0, 1, 1, 1, 1, 1, 1, 1, 1, 1, 0, 1, 0, 0, 0, 1, 1, 0, 1, 1, 0, 1, 0, 1, 1, 0, 1, 1, 1, 0, 0, 1, 1, 0, 1, 0, 1, 1, 0, 1, 1, 1, 1, 1, 1, 1, 0, 1, 1, 1, 0, 0, 1, 0, 0, 1, 1, 0, 1, 1, 1, 1, 1, 0, 1, 0, 1, 1, 0, 0, 1]\n"
     ]
    }
   ],
   "source": [
    "#>>>>>>>>>>>>>>>>>>>>    4    <<<<<<<<<<<<<<<<<<<<<<<\n",
    "import random\n",
    "n = random.randint(10, 100)\n",
    "tosses = []\n",
    "for j in range(n):\n",
    "    tosses.append(random.randint(0,1))\n",
    "\n",
    "i = 0\n",
    "while tosses[i] != 1 and i < n:\n",
    "    i += 1\n",
    "    \n",
    "print(i+1)\n",
    "print(tosses)"
   ]
  },
  {
   "cell_type": "markdown",
   "id": "328c8ee7",
   "metadata": {},
   "source": []
  }
 ],
 "metadata": {
  "kernelspec": {
   "display_name": "Python 3 (ipykernel)",
   "language": "python",
   "name": "python3"
  },
  "language_info": {
   "codemirror_mode": {
    "name": "ipython",
    "version": 3
   },
   "file_extension": ".py",
   "mimetype": "text/x-python",
   "name": "python",
   "nbconvert_exporter": "python",
   "pygments_lexer": "ipython3",
   "version": "3.10.9"
  }
 },
 "nbformat": 4,
 "nbformat_minor": 5
}

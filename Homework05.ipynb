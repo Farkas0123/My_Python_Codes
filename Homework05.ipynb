{
 "cells": [
  {
   "cell_type": "code",
   "execution_count": 5,
   "id": "0546be57",
   "metadata": {},
   "outputs": [
    {
     "name": "stdout",
     "output_type": "stream",
     "text": [
      "This program finds the divisors of every number up till your choice\n",
      "Give me an upper bound: 5\n",
      "{1: [1], 2: [1, 2], 3: [1, 3], 4: [1, 2, 4]}\n"
     ]
    }
   ],
   "source": [
    "print('This program finds the divisors of every number up till your choice')\n",
    "n = int(input('Give me an upper bound: '))\n",
    "result = {}\n",
    "for i in range(1, n):\n",
    "    result[i] = []\n",
    "    for j in range(1, i):\n",
    "        if i % j == 0:\n",
    "            result[i].append(j)\n",
    "    result[i].append(i)\n",
    "print(result)"
   ]
  },
  {
   "cell_type": "code",
   "execution_count": null,
   "id": "c154cf29",
   "metadata": {},
   "outputs": [],
   "source": []
  }
 ],
 "metadata": {
  "kernelspec": {
   "display_name": "Python 3 (ipykernel)",
   "language": "python",
   "name": "python3"
  },
  "language_info": {
   "codemirror_mode": {
    "name": "ipython",
    "version": 3
   },
   "file_extension": ".py",
   "mimetype": "text/x-python",
   "name": "python",
   "nbconvert_exporter": "python",
   "pygments_lexer": "ipython3",
   "version": "3.10.9"
  }
 },
 "nbformat": 4,
 "nbformat_minor": 5
}

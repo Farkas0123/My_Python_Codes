{
 "cells": [
  {
   "cell_type": "code",
   "execution_count": 2,
   "metadata": {},
   "outputs": [
    {
     "name": "stdout",
     "output_type": "stream",
     "text": [
      "The USERNAME for this super secret code is: Student\n",
      "The PASSWORD is: Password123\n",
      "Please enter your username and password(you have 3 attempts left)): \n"
     ]
    },
    {
     "name": "stdin",
     "output_type": "stream",
     "text": [
      "Username:  s\n",
      "Password:  s\n"
     ]
    },
    {
     "name": "stdout",
     "output_type": "stream",
     "text": [
      "Please enter your username and password(you have 2 attempts left)): \n"
     ]
    },
    {
     "name": "stdin",
     "output_type": "stream",
     "text": [
      "Username:  s\n",
      "Password:  s\n"
     ]
    },
    {
     "name": "stdout",
     "output_type": "stream",
     "text": [
      "Please enter your username and password(you have 1 attempts left)): \n"
     ]
    },
    {
     "name": "stdin",
     "output_type": "stream",
     "text": [
      "Username:  Student \n",
      "Password:  Password\n"
     ]
    },
    {
     "name": "stdout",
     "output_type": "stream",
     "text": [
      "You have no more attempts!\n"
     ]
    }
   ],
   "source": [
    "#Task 3\n",
    "print('The USERNAME for this super secret code is: Student\\nThe PASSWORD is: Password123')\n",
    "i = 0\n",
    "correct = False\n",
    "while i < 3 and not correct:\n",
    "    print(f'Please enter your username and password(you have {3-i} attempts left)): ')\n",
    "    u = str(input('Username: '))\n",
    "    p = str(input('Password: '))\n",
    "    correct = (u == 'Student' and p =='Password123')\n",
    "    i+=1\n",
    "if correct == False:\n",
    "    print('You have no more attempts!')\n",
    "else:\n",
    "    print('Hurrray, you can read!!!4!!44!!44!!!4')         \n",
    "\n",
    "       "
   ]
  },
  {
   "cell_type": "code",
   "execution_count": 3,
   "metadata": {},
   "outputs": [
    {
     "name": "stdout",
     "output_type": "stream",
     "text": [
      "Normal weight\n"
     ]
    }
   ],
   "source": [
    "#Task 2\n",
    "w = float(input('Please enter your weight in KG: '))\n",
    "h = float(input('Please enter your height in Meter: '))\n",
    "BMI = w / h**2\n",
    "if BMI < 18.5:\n",
    "    print('Underweight')\n",
    "elif BMI >= 18.5 and BMI <= 24.9:\n",
    "    print('Normal weight')\n",
    "elif BMI > 25 and BMI <= 29.9:\n",
    "    print('Overweight')\n",
    "else:\n",
    "    print('Obesity')\n"
   ]
  },
  {
   "cell_type": "code",
   "execution_count": 1,
   "metadata": {},
   "outputs": [
    {
     "name": "stdout",
     "output_type": "stream",
     "text": [
      "5\n"
     ]
    }
   ],
   "source": [
    "#Task 1\n",
    "a = int(input('a = '))\n",
    "b = int(input('b = '))\n",
    "\n",
    "while b != 0:\n",
    "    if a > b:\n",
    "        a = a - b\n",
    "    else:\n",
    "        b = b - a\n",
    "print(a)"
   ]
  }
 ],
 "metadata": {
  "kernelspec": {
   "display_name": "Python 3 (ipykernel)",
   "language": "python",
   "name": "python3"
  },
  "language_info": {
   "codemirror_mode": {
    "name": "ipython",
    "version": 3
   },
   "file_extension": ".py",
   "mimetype": "text/x-python",
   "name": "python",
   "nbconvert_exporter": "python",
   "pygments_lexer": "ipython3",
   "version": "3.9.10"
  }
 },
 "nbformat": 4,
 "nbformat_minor": 4
}

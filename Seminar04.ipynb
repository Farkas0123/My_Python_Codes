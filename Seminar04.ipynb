{
 "cells": [
  {
   "cell_type": "code",
   "execution_count": 7,
   "id": "515570dd",
   "metadata": {},
   "outputs": [
    {
     "name": "stdout",
     "output_type": "stream",
     "text": [
      "1\n",
      "9\n",
      "25\n",
      "49\n",
      "81\n",
      "sum: 165\n",
      "product: 893025\n"
     ]
    }
   ],
   "source": [
    "#Loops lopi loops\n",
    "sum = 0\n",
    "prod = 1\n",
    "for i in range(1, 10, 2):\n",
    "    print(i**2)\n",
    "    sum += i**2\n",
    "    prod *= i**2\n",
    "print(f'sum: {sum}')\n",
    "print(f'product: {prod}')"
   ]
  },
  {
   "cell_type": "code",
   "execution_count": 9,
   "id": "8bff1226",
   "metadata": {},
   "outputs": [
    {
     "name": "stdout",
     "output_type": "stream",
     "text": [
      "1\n",
      "2\n",
      "3\n",
      "4\n",
      "5\n",
      "6\n",
      "7\n",
      "8\n",
      "final prod: 1625702400, how many numbers were needed: 8\n"
     ]
    }
   ],
   "source": [
    "prod = 1\n",
    "i = 1\n",
    "while prod*(i**2) < 10000000000:\n",
    "    print(i)\n",
    "    prod *= i**2\n",
    "    i+=1\n",
    "print(f'final prod: {prod}, how many numbers were needed: {i-1}')"
   ]
  },
  {
   "cell_type": "code",
   "execution_count": 18,
   "id": "e31a328f",
   "metadata": {},
   "outputs": [
    {
     "name": "stdout",
     "output_type": "stream",
     "text": [
      "Please enter an integer: 5\n",
      "The number\tSquare root of it\n",
      "1\t1.0\n",
      "2\t1.41\n",
      "3\t1.73\n",
      "4\t2.0\n",
      "5\t2.24\n"
     ]
    }
   ],
   "source": [
    "#individual assignments\n",
    "#1-----------------\n",
    "n = int(input('Please enter an integer: '))\n",
    "for i in range(1, n+1):\n",
    "    print(i, round(i**0.5, 2), sep='\\t')"
   ]
  },
  {
   "cell_type": "code",
   "execution_count": 20,
   "id": "d5a0bcbc",
   "metadata": {},
   "outputs": [
    {
     "name": "stdout",
     "output_type": "stream",
     "text": [
      "The sum of the odd numbers: 1022121\n"
     ]
    }
   ],
   "source": [
    "#2-----------------\n",
    "sum = 0\n",
    "for i in range(1,2023,2):\n",
    "    sum+=i\n",
    "print(f'The sum of the odd numbers: {sum}')"
   ]
  },
  {
   "cell_type": "code",
   "execution_count": 41,
   "id": "13da2681",
   "metadata": {},
   "outputs": [
    {
     "name": "stdout",
     "output_type": "stream",
     "text": [
      "The random number is 20, it is not a prime.\n"
     ]
    }
   ],
   "source": [
    "#3-----------------\n",
    "import random\n",
    "x = random.randint(1, 20)\n",
    "is_prime = False\n",
    "i = 2\n",
    "while i<x and x % i !=0:\n",
    "    i = i + 1\n",
    "    \n",
    "is_prime = (i==x)\n",
    "if is_prime:\n",
    "    print(f'The random number is {x}, it is a prime.')\n",
    "else:\n",
    "    print(f'The random number is {x}, it is not a prime.')\n",
    "    \n",
    "    "
   ]
  },
  {
   "cell_type": "code",
   "execution_count": 3,
   "id": "027aefc9",
   "metadata": {},
   "outputs": [
    {
     "name": "stdout",
     "output_type": "stream",
     "text": [
      "Please enter an amount of cash: 1201\n",
      "1000\t1\n",
      "100\t2\n",
      "10\t0\n",
      "1\t1\n"
     ]
    }
   ],
   "source": [
    "#4---------------------\n",
    "cash = int(input('Please enter an amount of cash: '))\n",
    "denom = 1000\n",
    "while denom >=1:\n",
    "    piece = int(cash // denom)\n",
    "    print(denom, piece, sep='\\t')\n",
    "    cash = cash % denom\n",
    "    denom = int(denom/10)"
   ]
  },
  {
   "cell_type": "code",
   "execution_count": 9,
   "id": "a9e92d18",
   "metadata": {},
   "outputs": [
    {
     "name": "stdout",
     "output_type": "stream",
     "text": [
      "pick a number from 1 to 200: 100\n",
      "Enter a smaller number.\n",
      "Please enter another number from 1 to 200: 50\n",
      "Enter a smaller number.\n",
      "Please enter another number from 1 to 200: 25\n",
      "Enter a larger number.\n",
      "Please enter another number from 1 to 200: 38\n",
      "Enter a smaller number.\n",
      "Please enter another number from 1 to 200: 32\n",
      "Enter a smaller number.\n",
      "Please enter another number from 1 to 200: 29\n",
      "Enter a smaller number.\n",
      "Please enter another number from 1 to 200: 27\n",
      "Enter a larger number.\n",
      "Please enter another number from 1 to 200: 28\n",
      "Congratulations, you have found 28 in 8 attempts\n"
     ]
    }
   ],
   "source": [
    "#5-------------------\n",
    "import random\n",
    "max_attempts = 8\n",
    "n = random.randint(1, 200)\n",
    "attempts = 1\n",
    "guess = int(input('pick a number from 1 to 200: '))\n",
    "while attempts < max_attempts and guess != n:\n",
    "    if guess < n:\n",
    "        print('Enter a larger number.')\n",
    "    elif guess > n:\n",
    "        print('Enter a smaller number.')\n",
    "    attempts += 1\n",
    "    guess = int(input('Please enter another number from 1 to 200: '))\n",
    "if guess == n:\n",
    "    print(f'Congratulations, you have found {n} in {attempts} attempts')\n",
    "else:\n",
    "    print(f'Sorry, you are out of attempts. The number was {n}')\n"
   ]
  },
  {
   "cell_type": "code",
   "execution_count": 12,
   "id": "a54abb49",
   "metadata": {},
   "outputs": [
    {
     "name": "stdout",
     "output_type": "stream",
     "text": [
      "Please enter your firstname: Farkas\n",
      "Please enter your lastname: Ükös\n",
      "Farkas Ükös => FAÖS\n"
     ]
    }
   ],
   "source": [
    "#6----------------\n",
    "fn = input('Please enter your firstname: ')\n",
    "ln = input('Please enter your lastname: ')\n",
    "monogram = fn[:2]+ln[-2:]\n",
    "print(f'{fn} {ln} => {monogram.upper()}')"
   ]
  },
  {
   "cell_type": "code",
   "execution_count": null,
   "id": "63d57643",
   "metadata": {},
   "outputs": [],
   "source": []
  },
  {
   "cell_type": "code",
   "execution_count": null,
   "id": "53dc2778",
   "metadata": {},
   "outputs": [],
   "source": []
  }
 ],
 "metadata": {
  "kernelspec": {
   "display_name": "Python 3 (ipykernel)",
   "language": "python",
   "name": "python3"
  },
  "language_info": {
   "codemirror_mode": {
    "name": "ipython",
    "version": 3
   },
   "file_extension": ".py",
   "mimetype": "text/x-python",
   "name": "python",
   "nbconvert_exporter": "python",
   "pygments_lexer": "ipython3",
   "version": "3.10.9"
  }
 },
 "nbformat": 4,
 "nbformat_minor": 5
}

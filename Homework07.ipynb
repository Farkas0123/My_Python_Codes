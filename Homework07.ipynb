{
 "cells": [
  {
   "cell_type": "code",
   "execution_count": null,
   "id": "418abdfd",
   "metadata": {},
   "outputs": [],
   "source": [
    "# homework\n",
    "# We have a list of N names. Select the ones that are shorter than the average length into a new list. \n",
    "names = ['asdfasdf','asds','as']\n",
    "shorter= []\n",
    "summa = 0\n",
    "for i in range(len(names)):\n",
    "    summa += len(names[i])\n",
    "avg = summa/len(names)\n",
    "\n",
    "for i in range(len(names)):\n",
    "    if len(names[i])<avg:\n",
    "        shorter.append(names[i])\n",
    "print(shorter)\n",
    "\n",
    "# Homework:\n",
    "# Write a Python function to check whether a number is palindromic or not. (A palindromic\n",
    "# number is a number (such as 121) that remains the same when its digits are reversed)\n",
    "# • using this function display all palindromic number between 1 and 500\n",
    "\n",
    "def palindromic(a,b):\n",
    "    list = []\n",
    "    for i in range(a,b):\n",
    "        if str(i)[0]==str(i)[-1]:\n",
    "            list.append(i)\n",
    "    return list\n",
    "print(palindromic(1,500))"
   ]
  }
 ],
 "metadata": {
  "kernelspec": {
   "display_name": "Python 3 (ipykernel)",
   "language": "python",
   "name": "python3"
  },
  "language_info": {
   "codemirror_mode": {
    "name": "ipython",
    "version": 3
   },
   "file_extension": ".py",
   "mimetype": "text/x-python",
   "name": "python",
   "nbconvert_exporter": "python",
   "pygments_lexer": "ipython3",
   "version": "3.10.9"
  }
 },
 "nbformat": 4,
 "nbformat_minor": 5
}

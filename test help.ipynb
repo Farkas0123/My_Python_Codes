{
 "cells": [
  {
   "cell_type": "code",
   "execution_count": 1,
   "id": "8e688e6e",
   "metadata": {},
   "outputs": [
    {
     "name": "stdout",
     "output_type": "stream",
     "text": [
      "3\n",
      "6\n",
      "9\n",
      "12\n",
      "15\n"
     ]
    }
   ],
   "source": [
    "c = 1\n",
    "while c < 6:\n",
    "    print(c*3)\n",
    "    c = c+1"
   ]
  },
  {
   "cell_type": "code",
   "execution_count": 2,
   "id": "5adea2f2",
   "metadata": {},
   "outputs": [
    {
     "name": "stdout",
     "output_type": "stream",
     "text": [
      "55\n"
     ]
    }
   ],
   "source": [
    "print(\"5\"+\"5\")"
   ]
  },
  {
   "cell_type": "code",
   "execution_count": 3,
   "id": "d9962ccd",
   "metadata": {},
   "outputs": [
    {
     "name": "stdout",
     "output_type": "stream",
     "text": [
      "25.0\n"
     ]
    }
   ],
   "source": [
    "a = 10\n",
    "b = 5\n",
    "c = 50\n",
    "print(c/a*b)\n",
    "        "
   ]
  },
  {
   "cell_type": "code",
   "execution_count": 29,
   "id": "4b09cffd",
   "metadata": {},
   "outputs": [
    {
     "name": "stdout",
     "output_type": "stream",
     "text": [
      "7\n"
     ]
    }
   ],
   "source": [
    "print(4+3%5)"
   ]
  },
  {
   "cell_type": "code",
   "execution_count": 6,
   "id": "e7407b53",
   "metadata": {},
   "outputs": [
    {
     "name": "stdout",
     "output_type": "stream",
     "text": [
      "<class 'float'>\n"
     ]
    }
   ],
   "source": [
    "print(type(10.5))"
   ]
  },
  {
   "cell_type": "code",
   "execution_count": 9,
   "id": "87c0e767",
   "metadata": {},
   "outputs": [
    {
     "name": "stdout",
     "output_type": "stream",
     "text": [
      "The Pythagoras theorem equation is expressed as, c2 = a2 + b2, where c = hypotenuse of the right triangle and a and b are the other two legs. Please enter the sides below:\n",
      "a = 3\n",
      "b = 4\n",
      "c = 5\n",
      "this triangle is a 90° triangle\n"
     ]
    }
   ],
   "source": [
    "print('The Pythagoras theorem equation is expressed as, c2 = a2 + b2, where c = hypotenuse of the right triangle and a and b are the other two legs. Please enter the sides below:')\n",
    "a = float(input('a = '))\n",
    "b = float(input('b = '))\n",
    "c = float(input('c = '))\n",
    "if c**2 == (a**2+b**2):\n",
    "    print('this triangle is a 90° triangle')\n",
    "else:\n",
    "    print('this triangle is not a 90° triangle')"
   ]
  },
  {
   "cell_type": "code",
   "execution_count": 25,
   "id": "9b7fc402",
   "metadata": {},
   "outputs": [
    {
     "name": "stdout",
     "output_type": "stream",
     "text": [
      "Small\n",
      "The sum (41) is a prime number\n"
     ]
    }
   ],
   "source": [
    "import random\n",
    "numbers = []\n",
    "x = 0\n",
    "sum = 0\n",
    "\n",
    "for i in range(5):\n",
    "    x = random.randint(5,20)\n",
    "    sum = sum+x\n",
    "    numbers.append(x)\n",
    "\n",
    "if sum< 50:\n",
    "    print('Small')\n",
    "elif sum < 75 : \n",
    "    print('Average')\n",
    "else:\n",
    "    print('Big')\n",
    "\n",
    "\n",
    "i = 2\n",
    "while i < sum and sum % i !=0:\n",
    "    i += 1\n",
    "if i == sum:\n",
    "    print(f'The sum ({sum}) is a prime number')\n",
    "else:\n",
    "    print(f'The sum ({sum}) is not a prime number')"
   ]
  },
  {
   "cell_type": "code",
   "execution_count": 28,
   "id": "7fcf64f1",
   "metadata": {},
   "outputs": [
    {
     "name": "stdout",
     "output_type": "stream",
     "text": [
      "This program will calculate the height of a body after thrown vertically upwards. Please enter the time (in seconds) and the initial velocity (in m/s):\n",
      "Time = 1\n",
      "Initial velocity = 10\n",
      "5.0\n"
     ]
    }
   ],
   "source": [
    "print('This program will calculate the height of a body after thrown vertically upwards. Please enter the time (in seconds) and the initial velocity (in m/s):')\n",
    "t = float(input('Time = '))\n",
    "v0 = float(input('Initial velocity = '))\n",
    "y = v0*t - 5*t*t\n",
    "if y > 0:\n",
    "    print(y)\n",
    "else:\n",
    "    print('The object has already hit the ground')"
   ]
  },
  {
   "cell_type": "code",
   "execution_count": null,
   "id": "4a254c57",
   "metadata": {},
   "outputs": [],
   "source": []
  }
 ],
 "metadata": {
  "kernelspec": {
   "display_name": "Python 3 (ipykernel)",
   "language": "python",
   "name": "python3"
  },
  "language_info": {
   "codemirror_mode": {
    "name": "ipython",
    "version": 3
   },
   "file_extension": ".py",
   "mimetype": "text/x-python",
   "name": "python",
   "nbconvert_exporter": "python",
   "pygments_lexer": "ipython3",
   "version": "3.10.9"
  }
 },
 "nbformat": 4,
 "nbformat_minor": 5
}

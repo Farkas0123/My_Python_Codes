{
 "cells": [
  {
   "cell_type": "code",
   "execution_count": 1,
   "id": "83f55e41",
   "metadata": {},
   "outputs": [
    {
     "name": "stdout",
     "output_type": "stream",
     "text": [
      "Please give me the current temperature: 26\n",
      "its pretty normal out there\n"
     ]
    }
   ],
   "source": [
    "#Homewoooork\n",
    "t = int(input('Please give me the current temperature: '))\n",
    "if t > 30:\n",
    "    print('Its really hot out there')\n",
    "elif t>=10 and t <=30:\n",
    "    print('its pretty normal out there')\n",
    "elif t>=0 and t < 10:\n",
    "    print('Getting coooold!!')\n",
    "else: \n",
    "    print('Freeeezing')"
   ]
  },
  {
   "cell_type": "code",
   "execution_count": null,
   "id": "03745620",
   "metadata": {},
   "outputs": [],
   "source": []
  }
 ],
 "metadata": {
  "kernelspec": {
   "display_name": "Python 3 (ipykernel)",
   "language": "python",
   "name": "python3"
  },
  "language_info": {
   "codemirror_mode": {
    "name": "ipython",
    "version": 3
   },
   "file_extension": ".py",
   "mimetype": "text/x-python",
   "name": "python",
   "nbconvert_exporter": "python",
   "pygments_lexer": "ipython3",
   "version": "3.10.9"
  }
 },
 "nbformat": 4,
 "nbformat_minor": 5
}

{
 "cells": [
  {
   "cell_type": "code",
   "execution_count": 3,
   "id": "fa14df95",
   "metadata": {},
   "outputs": [
    {
     "name": "stdout",
     "output_type": "stream",
     "text": [
      "[21, 22, 23]\n",
      "[69.80000000000001, 71.6, 73.4]\n"
     ]
    }
   ],
   "source": [
    "#1 Given N pieces of temperature values (real numbers) in degrees Celsius. \n",
    "# Let's convert them to Fahrenheit, then display both the original and the new values on the screen! \n",
    "# Use the following formula: Temperature in degrees Fahrenheit (°F) = (Temperature in degrees Celsius (°C) * 9/5) + 32\n",
    "\n",
    "t = [21, 22, 23]\n",
    "t_f = []\n",
    "for i in range(len(t)):\n",
    "    t_f.append(t[i]*(9/5)+32)\n",
    "print(t)\n",
    "print(t_f)"
   ]
  },
  {
   "cell_type": "code",
   "execution_count": null,
   "id": "e3f1ea51",
   "metadata": {},
   "outputs": [],
   "source": [
    "#2 Given the exam result of N students (integers between 0 and M). A score of at least 50% is required to pass the exam. \n",
    "# Let's select and display the scores of the students who passed the exam! \n",
    "M = 100\n",
    "N = 5\n",
    "results = [0]*N\n",
    "passed = {}\n",
    "for i in range(N):\n",
    "    results[i] = random.randint(1, 100)\n",
    "    if results[i] >= 50:\n",
    "        passed[i] = results[i]\n",
    "print(results)\n",
    "print(passed)"
   ]
  },
  {
   "cell_type": "code",
   "execution_count": null,
   "id": "1d389235",
   "metadata": {},
   "outputs": [],
   "source": [
    "#3 A dice is rolled N times, and the values of the rolls are stored in a list. \n",
    "# Separate even and odd values into two particular lists. \n",
    "N = 10\n",
    "numbers = [0]*N\n",
    "odd = []\n",
    "even = []\n",
    "for i in range(N):\n",
    "    numbers[i] = random.randint(1,6)\n",
    "    if numbers[i] % 2 == 0:\n",
    "        even.append(numbers[i])\n",
    "    else:\n",
    "        odd.append(numbers[i])\n",
    "print(numbers)\n",
    "print(even)\n",
    "print(odd)"
   ]
  },
  {
   "cell_type": "code",
   "execution_count": null,
   "id": "6331a299",
   "metadata": {},
   "outputs": [],
   "source": [
    "#4 Generate 5 random integers between 0 and N, then sort them in ascending order using the swap sort algorithm. \n",
    "# •\tDisplay each step when a swap is made \n",
    "\n",
    "N = 100\n",
    "numbers = [0]*5\n",
    "m = len(numbers)\n",
    "for i in range(m):\n",
    "    numbers[i] = random.randint(0,N)\n",
    "print(numbers)\n",
    "for i in range(m-1):\n",
    "    for j in range(i+1, m):\n",
    "        if numbers[i] > numbers[j]:\n",
    "            numbers[i], numbers[j] = numbers[j], numbers[i]\n",
    "            print(numbers)"
   ]
  },
  {
   "cell_type": "code",
   "execution_count": null,
   "id": "4e11182d",
   "metadata": {},
   "outputs": [],
   "source": [
    "#5 Given N float numbers between a and b. Sort them in descending order using the maximum selection sort algorithm. \n",
    "# •\tDisplay each step when a swap is made \n",
    "N = 5\n",
    "numbers = [0]*N\n",
    "for i in range(N):\n",
    "    numbers[i] = random.randint(3, 1000)\n",
    "print('------------------')\n",
    "print(numbers)\n",
    "for i in range(N-1):\n",
    "    max = i\n",
    "    for j in range(i+1, N):\n",
    "        if numbers[j] > numbers[max]:\n",
    "            max = j\n",
    "    numbers[i], numbers[max] = numbers[max], numbers[i]\n",
    "    print(numbers)"
   ]
  },
  {
   "cell_type": "code",
   "execution_count": null,
   "id": "02bfdeba",
   "metadata": {},
   "outputs": [],
   "source": [
    "#6 Given a sentence with lowercase letters. Sort its letter in ascending order alphabetically using the bubble sort algorithm. \n",
    "print('__________________________')\n",
    "sentence = 'this is my sentence which I would like to sort in no time'\n",
    "ls = list(sentence.lower())\n",
    "for i in range(len(ls)-1,0,-1):\n",
    "    for j in range(i):\n",
    "        if ls[j] == ' ': ls.pop(j)\n",
    "        if ls[j] > ls[j+1]:\n",
    "            ls[j], ls[j+1] = ls[j+1], ls[j]\n",
    "ordered = ''.join(ls)\n",
    "print(ordered)\n",
    "print()"
   ]
  },
  {
   "cell_type": "code",
   "execution_count": 8,
   "id": "3e837371",
   "metadata": {},
   "outputs": [
    {
     "name": "stdout",
     "output_type": "stream",
     "text": [
      "2 3 5 7 11 13 17 19 23 29 31 37 41 43 47 53 59 61 67 71 73 79 83 89 97 "
     ]
    }
   ],
   "source": [
    "# Assignment/exercise 1 (20 minutes)\n",
    "# Write a function to check if a number N is prime!\n",
    "# • find the divisors from 2 up to √𝑁\n",
    "# • use this function to display the prime numbers between 1 and 100\n",
    "# • Optionally: use another primality test, such as Fermat method. In case of\n",
    "# Fermat method, try it with a pseudoprime too, e.g. 341\n",
    "\n",
    "def is_prime(n):\n",
    "    divisor= 2\n",
    "    if n == 1: return False\n",
    "    while divisor <= n**0.5 and n % divisor != 0:\n",
    "        divisor += 1\n",
    "    if divisor > n**0.5:\n",
    "        return True\n",
    "    else:\n",
    "        return False\n",
    "for i in range(1, 100):\n",
    "    if is_prime(i):\n",
    "        print(i, end = ' ')"
   ]
  },
  {
   "cell_type": "code",
   "execution_count": 4,
   "id": "75b17bc1",
   "metadata": {},
   "outputs": [
    {
     "name": "stdout",
     "output_type": "stream",
     "text": [
      "\n",
      "[1, 1, 2, 3, 5, 8, 13, 21, 34, 55, 89, 144]\n"
     ]
    }
   ],
   "source": [
    "# Assignment/exercise 2 (20 minutes)\n",
    "# Write a procedure to display the first N Fibonacci numbers!\n",
    "# • N should be a mandatory parameter\n",
    "# • The zeroth and the first elements should be optional parameters with a\n",
    "# default value of 1\n",
    "# • Use the following formula to calculate the nth Fibonacci number:\n",
    "# Fn=Fn−1+Fn−2 (n >1)\n",
    "print()\n",
    "def Fibonacci(n):\n",
    "    list = [1,1]\n",
    "    for i in range (2,n+2):\n",
    "        list.append(list[i-1]+list[i-2])\n",
    "    return list\n",
    "print(Fibonacci(10))"
   ]
  },
  {
   "cell_type": "code",
   "execution_count": 5,
   "id": "7d06d9f9",
   "metadata": {},
   "outputs": [],
   "source": [
    "# Assignment/exercise 3 (30 minutes)\n",
    "# Write a function to calculate the factorial for the number n. Using this to ...\n",
    "# • create a new function to calculate the binomial coefficient according to the\n",
    "# following formula: nCr = n!/(r! * (n-r)!)\n",
    "# • create a procedure to display the first N rows of the Pascal’s triangle\n",
    "def factorial(n):\n",
    "    prod = 1\n",
    "    for i in range(n):\n",
    "        prod = prod * (i+1)\n",
    "    return prod\n",
    "\n",
    "def bino(n, r):\n",
    "    return (factorial(n))/(factorial(r)*factorial(n-r))\n",
    "\n",
    "def pas(n):\n",
    "    line = []\n",
    "    for i in range(n+1):\n",
    "        line.append(bino(n,i))\n",
    "    return line\n",
    "\n",
    "for i in range(10):\n",
    "    print(pas(i))"
   ]
  },
  {
   "cell_type": "code",
   "execution_count": 6,
   "id": "ff4f0c1d",
   "metadata": {},
   "outputs": [],
   "source": [
    "# Assignment/exercise 4 (20 minutes)\n",
    "# Write a program that is divided into three logical parts:\n",
    "# • the first part generates n random integers between a and b, and puts them\n",
    "# into a list\n",
    "# • the second part sorts the list elements in ascending order (you can use any\n",
    "# learned sorting algorithm)\n",
    "# • the third part displays the original and the sorted lists\n",
    "# • Use functions and/or procedures to solve this exercise. Ask the values of n,\n",
    "# a and b from the user.\n",
    "\n",
    "def generate(n,a,b):\n",
    "    list = []\n",
    "    for i in range(n):\n",
    "        list.append(random.randint(a,b))\n",
    "    return list\n",
    "\n",
    "def sort(l):\n",
    "    for i in range(len(l)-1,0,-1):\n",
    "        for j in range(i):\n",
    "            if l[j] > l[j+1]:\n",
    "                l[j], l[j+1] = l[j+1], l[j]\n",
    "    return l\n",
    "\n",
    "n = int(input('n = '))\n",
    "a = int(input('a = '))\n",
    "b = int(input('b = '))\n",
    "\n",
    "rlist = generate(n,a,b)\n",
    "print(rlist)\n",
    "olist = sort(rlist)\n",
    "print(olist)"
   ]
  },
  {
   "cell_type": "code",
   "execution_count": 7,
   "id": "6733074b",
   "metadata": {},
   "outputs": [],
   "source": [
    "# Assignment/exercise 5 (20 minutes)\n",
    "# Write a function that returns a dictionary containing the frequency of characters of a text\n",
    "# received as a parameter.\n",
    "# • e.g., if the text is: “Hello World”,\n",
    "# • result should be: {H: 1, e: 1, l: 3, o: 2, W: 1, r: 1, d: 1 }\n",
    "# • double each value in the dictionary using map and lambda functions!\n",
    "# • filter the dictionary using filter and lambda functions by keeping only those\n",
    "# key-value pairs when the value is divisible by 3"
   ]
  },
  {
   "cell_type": "code",
   "execution_count": null,
   "id": "361cc115",
   "metadata": {},
   "outputs": [],
   "source": [
    "# Assignment/exercise 6 (30 minutes)\n",
    "# Write a module that implements basic operations on three-dimensional vectors using\n",
    "# functions\n",
    "# • to be implemented: addition, subtraction, multiplication by a number, dot\n",
    "# product\n",
    "# • write a program that imports this module and performs some vector\n",
    "# operations (at least one of each type)"
   ]
  }
 ],
 "metadata": {
  "kernelspec": {
   "display_name": "Python 3 (ipykernel)",
   "language": "python",
   "name": "python3"
  },
  "language_info": {
   "codemirror_mode": {
    "name": "ipython",
    "version": 3
   },
   "file_extension": ".py",
   "mimetype": "text/x-python",
   "name": "python",
   "nbconvert_exporter": "python",
   "pygments_lexer": "ipython3",
   "version": "3.10.9"
  }
 },
 "nbformat": 4,
 "nbformat_minor": 5
}

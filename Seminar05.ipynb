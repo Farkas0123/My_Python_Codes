{
 "cells": [
  {
   "cell_type": "code",
   "execution_count": 10,
   "id": "8ee2c46a",
   "metadata": {},
   "outputs": [
    {
     "name": "stdout",
     "output_type": "stream",
     "text": [
      "[57, 62, 45, 67, 46]\n",
      "[46, 62, 45, 67, 57]\n",
      "[57, 62, 45, 67, 46]\n"
     ]
    }
   ],
   "source": [
    "import random\n",
    "numbers = []\n",
    "for i in range(5):\n",
    "    numbers.append(random.randint(1, 90))\n",
    "print(numbers)\n",
    "\n",
    "first = numbers[0]\n",
    "numbers[0] = numbers[-1]\n",
    "numbers[-1] = first\n",
    "print(numbers)\n",
    "numbers[0], numbers[-1] = numbers[-1], numbers[0]#>>>>>>>>>>>>>>>>>>>>> N E W  S T U F F <<<<<<<<<<<<<<<<<<<<<<<<<<<\n",
    "print(numbers)"
   ]
  },
  {
   "cell_type": "code",
   "execution_count": 9,
   "id": "f009bd05",
   "metadata": {},
   "outputs": [
    {
     "name": "stdout",
     "output_type": "stream",
     "text": [
      "[0, 0, 0, 0, 1]\n",
      "[0, 0, 0, 0, 1]\n",
      "[0, 1, 1, 1, 1]\n",
      "[1, 1, 1, 0, 0]\n",
      "[0, 0, 0, 0, 1]\n"
     ]
    }
   ],
   "source": [
    "import random\n",
    "n = 5\n",
    "m = 5\n",
    "matrix = [[0 for _ in range(m)] for _ in range(n)]\n",
    "for i in range(n):\n",
    "    for j in range(m):\n",
    "        matrix[i][j] = random.randint(0, 1)\n",
    "\n",
    "for i in range(n):\n",
    "    print(matrix[i])"
   ]
  },
  {
   "cell_type": "code",
   "execution_count": 3,
   "id": "7b7925cb",
   "metadata": {},
   "outputs": [
    {
     "name": "stdout",
     "output_type": "stream",
     "text": [
      "[4, 2, 3]\n",
      "[1, 1, 4]\n",
      "[2, 5, 0]\n",
      "\n",
      "[5, 0, 1]\n",
      "[4, 1, 2]\n",
      "[1, 4, 1]\n",
      "\n",
      "[22, 15, 15]\n",
      "[21, 19, 16]\n",
      "[10, 11, 19]\n"
     ]
    }
   ],
   "source": [
    "#             >>>>>>>>>>>>>    HOW TO MULTIPLY MATRICES    <<<<<<<<<<<<<<<<<<<<\n",
    "import random\n",
    "mat1 = [[0 for _ in range(3)] for _ in range(3)]\n",
    "for i in range(3):\n",
    "    for j in range(3):\n",
    "        mat1[i][j] = random.randint(0, 5)\n",
    "        \n",
    "mat2 = [[0 for _ in range(3)] for _ in range(3)]\n",
    "for i in range(3):\n",
    "    for j in range(3):\n",
    "        mat2[i][j] = random.randint(0, 5)\n",
    "\n",
    "result = [[0 for _ in range(3)] for _ in range(3)]\n",
    "\n",
    "for i in range(3):\n",
    "    for j in range(3):\n",
    "        result[i][j] = mat1[i][0]*mat2[0][j]+mat1[i][1]*mat2[1][j]+mat1[i][2]*mat2[2][j]\n",
    "        \n",
    "for i in range(3):\n",
    "    print(mat2[i])\n",
    "print()\n",
    "for i in range(3):\n",
    "    print(mat1[i])\n",
    "print()\n",
    "for i in range(3):\n",
    "    print(result[i])"
   ]
  },
  {
   "cell_type": "code",
   "execution_count": 22,
   "id": "a38261a1",
   "metadata": {},
   "outputs": [
    {
     "name": "stdout",
     "output_type": "stream",
     "text": [
      "{2: 3, 4: 1, 3: 2}\n",
      "3\n",
      "{4: 1, 3: 2}\n"
     ]
    }
   ],
   "source": [
    "#                 >>>>>>>>>>>>>>  DICTIONARY  <<<<<<<<<<<<<\n",
    "d = {}\n",
    "t = (2,4,3,2,2,3)\n",
    "for item in t:\n",
    "    if item not in d:\n",
    "        d[item] = 1\n",
    "    else:\n",
    "        d[item] += 1\n",
    "\n",
    "\n",
    "print(d)\n",
    "print(d.get(2))\n",
    "d.pop(2)\n",
    "print(d)"
   ]
  },
  {
   "cell_type": "code",
   "execution_count": 29,
   "id": "510469d0",
   "metadata": {},
   "outputs": [
    {
     "name": "stdout",
     "output_type": "stream",
     "text": [
      "{'p', 'x'}\n",
      "{'z', 'y', 'a', 'p', 'w', 'k', 'j', 'q', 'c', 'x'}\n",
      "{'a', 'c', 'w', 'j'}\n"
     ]
    }
   ],
   "source": [
    "fn1 = ['p','w','j','c','a','x']\n",
    "fn2 = ['p','k','q','x','z','y']\n",
    "fn1 = set(fn1)\n",
    "fn2 = set(fn2)\n",
    "#give the common items\n",
    "print(fn1.intersection(fn2))\n",
    "#union\n",
    "print(fn1.union(fn2))\n",
    "#all element that are in the first \n",
    "print(fn1.difference(fn2))"
   ]
  },
  {
   "cell_type": "code",
   "execution_count": null,
   "id": "d28d6b4e",
   "metadata": {},
   "outputs": [],
   "source": []
  }
 ],
 "metadata": {
  "kernelspec": {
   "display_name": "Python 3 (ipykernel)",
   "language": "python",
   "name": "python3"
  },
  "language_info": {
   "codemirror_mode": {
    "name": "ipython",
    "version": 3
   },
   "file_extension": ".py",
   "mimetype": "text/x-python",
   "name": "python",
   "nbconvert_exporter": "python",
   "pygments_lexer": "ipython3",
   "version": "3.10.9"
  }
 },
 "nbformat": 4,
 "nbformat_minor": 5
}

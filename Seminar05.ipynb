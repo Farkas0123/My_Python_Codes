{
 "cells": [
  {
   "cell_type": "code",
   "execution_count": 10,
   "id": "8ee2c46a",
   "metadata": {},
   "outputs": [
    {
     "name": "stdout",
     "output_type": "stream",
     "text": [
      "[57, 62, 45, 67, 46]\n",
      "[46, 62, 45, 67, 57]\n",
      "[57, 62, 45, 67, 46]\n"
     ]
    }
   ],
   "source": [
    "import random\n",
    "numbers = []\n",
    "for i in range(5):\n",
    "    numbers.append(random.randint(1, 90))\n",
    "print(numbers)\n",
    "\n",
    "first = numbers[0]\n",
    "numbers[0] = numbers[-1]\n",
    "numbers[-1] = first\n",
    "print(numbers)\n",
    "numbers[0], numbers[-1] = numbers[-1], numbers[0]#>>>>>>>>>>>>>>>>>>>>> N E W  S T U F F <<<<<<<<<<<<<<<<<<<<<<<<<<<\n",
    "print(numbers)"
   ]
  },
  {
   "cell_type": "code",
   "execution_count": 9,
   "id": "f009bd05",
   "metadata": {},
   "outputs": [
    {
     "name": "stdout",
     "output_type": "stream",
     "text": [
      "[0, 0, 0, 0, 1]\n",
      "[0, 0, 0, 0, 1]\n",
      "[0, 1, 1, 1, 1]\n",
      "[1, 1, 1, 0, 0]\n",
      "[0, 0, 0, 0, 1]\n"
     ]
    }
   ],
   "source": [
    "import random\n",
    "n = 5\n",
    "m = 5\n",
    "matrix = [[0 for _ in range(m)] for _ in range(n)]\n",
    "for i in range(n):\n",
    "    for j in range(m):\n",
    "        matrix[i][j] = random.randint(0, 1)\n",
    "\n",
    "for i in range(n):\n",
    "    print(matrix[i])"
   ]
  },
  {
   "cell_type": "code",
   "execution_count": 16,
   "id": "7b7925cb",
   "metadata": {},
   "outputs": [
    {
     "name": "stdout",
     "output_type": "stream",
     "text": [
      "[0, 2, 4]\n",
      "[2, 3, 5]\n",
      "[5, 2, 3]\n",
      "\n",
      "[3, 0, 3]\n",
      "[4, 4, 4]\n",
      "[5, 3, 0]\n",
      "\n",
      "[15, 12, 21]\n",
      "[28, 28, 48]\n",
      "[6, 19, 35]\n"
     ]
    }
   ],
   "source": [
    "mat1 = [[0 for _ in range(3)] for _ in range(3)]\n",
    "for i in range(3):\n",
    "    for j in range(3):\n",
    "        mat1[i][j] = random.randint(0, 5)\n",
    "        \n",
    "mat2 = [[0 for _ in range(3)] for _ in range(3)]\n",
    "for i in range(3):\n",
    "    for j in range(3):\n",
    "        mat2[i][j] = random.randint(0, 5)\n",
    "\n",
    "result = [[0 for _ in range(3)] for _ in range(3)]\n",
    "\n",
    "for i in range(3):\n",
    "    for j in range(3):\n",
    "        result[i][j] = mat1[i][0]*mat2[0][j]+mat1[i][1]*mat2[1][j]+mat1[i][2]*mat2[2][j]\n",
    "        \n",
    "for i in range(3):\n",
    "    print(mat2[i])\n",
    "print()\n",
    "for i in range(3):\n",
    "    print(mat1[i])\n",
    "print()\n",
    "for i in range(3):\n",
    "    print(result[i])"
   ]
  },
  {
   "cell_type": "code",
   "execution_count": 19,
   "id": "a38261a1",
   "metadata": {},
   "outputs": [
    {
     "name": "stdout",
     "output_type": "stream",
     "text": [
      "[0, 0, 0, 0, 1]\n",
      "[1, 1, 1, 1, 1]\n",
      "[0, 1, 1, 0, 0]\n",
      "[0, 1, 1, 1, 1]\n",
      "[0, 1, 0, 1, 0]\n"
     ]
    },
    {
     "ename": "NameError",
     "evalue": "name 'count' is not defined",
     "output_type": "error",
     "traceback": [
      "\u001b[1;31m---------------------------------------------------------------------------\u001b[0m",
      "\u001b[1;31mNameError\u001b[0m                                 Traceback (most recent call last)",
      "Cell \u001b[1;32mIn[19], line 12\u001b[0m\n\u001b[0;32m     10\u001b[0m empty_spaces \u001b[38;5;241m=\u001b[39m \u001b[38;5;241m0\u001b[39m\n\u001b[0;32m     11\u001b[0m \u001b[38;5;28;01mfor\u001b[39;00m row \u001b[38;5;129;01min\u001b[39;00m seats:\n\u001b[1;32m---> 12\u001b[0m     empty_spaces \u001b[38;5;241m+\u001b[39m\u001b[38;5;241m=\u001b[39m \u001b[43mcount\u001b[49m(\u001b[38;5;241m0\u001b[39m, row)\n\u001b[0;32m     13\u001b[0m \u001b[38;5;28mprint\u001b[39m(\u001b[38;5;124mf\u001b[39m\u001b[38;5;124m'\u001b[39m\u001b[38;5;124mempty : \u001b[39m\u001b[38;5;132;01m{\u001b[39;00mempty_spaces\u001b[38;5;132;01m}\u001b[39;00m\u001b[38;5;124m'\u001b[39m)\n",
      "\u001b[1;31mNameError\u001b[0m: name 'count' is not defined"
     ]
    }
   ],
   "source": [
    "#declaring a matrix in a looooong way\n",
    "seats = []\n",
    "for i in range(n):\n",
    "    new_row = []\n",
    "    for j in range(m):\n",
    "        new_row.append(random.randint(0,1))\n",
    "    seats.append(new_row)\n",
    "for row in seats:\n",
    "    print(row)\n",
    "empty_spaces = 0\n",
    "for row in seats:\n",
    "    empty_spaces += count(row, 0)\n",
    "print(f'empty : {empty_spaces}')"
   ]
  },
  {
   "cell_type": "code",
   "execution_count": null,
   "id": "510469d0",
   "metadata": {},
   "outputs": [],
   "source": []
  }
 ],
 "metadata": {
  "kernelspec": {
   "display_name": "Python 3 (ipykernel)",
   "language": "python",
   "name": "python3"
  },
  "language_info": {
   "codemirror_mode": {
    "name": "ipython",
    "version": 3
   },
   "file_extension": ".py",
   "mimetype": "text/x-python",
   "name": "python",
   "nbconvert_exporter": "python",
   "pygments_lexer": "ipython3",
   "version": "3.10.9"
  }
 },
 "nbformat": 4,
 "nbformat_minor": 5
}
